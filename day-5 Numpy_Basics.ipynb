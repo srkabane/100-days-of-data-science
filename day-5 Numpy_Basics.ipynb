{
 "cells": [
  {
   "cell_type": "code",
   "execution_count": 4,
   "id": "ebee530d-2595-4521-aa4f-34f00cc026fd",
   "metadata": {},
   "outputs": [
    {
     "name": "stdout",
     "output_type": "stream",
     "text": [
      "[1 2 3 4 5]\n"
     ]
    },
    {
     "data": {
      "text/plain": [
       "array([1, 2, 3, 4, 5])"
      ]
     },
     "execution_count": 4,
     "metadata": {},
     "output_type": "execute_result"
    }
   ],
   "source": [
    "#Numpy referes to Numerical Python\n",
    "# It is a package for data analysis and scientific computing with Python.\n",
    "import numpy as np\n",
    "arr1=np.array([1,2,3,4,5])\n",
    "print(arr1)\n",
    "arr1.view()"
   ]
  },
  {
   "cell_type": "code",
   "execution_count": 8,
   "id": "01709f5b-1df9-49e6-845c-e6866721bfa5",
   "metadata": {},
   "outputs": [
    {
     "name": "stdout",
     "output_type": "stream",
     "text": [
      "[[1 2 3]\n",
      " [2 3 4]]\n",
      "<class 'numpy.ndarray'>\n"
     ]
    }
   ],
   "source": [
    "#2d array\n",
    "arr2=np.array([[1,2,3],[2,3,4]])\n",
    "print(arr2)\n",
    "arr2.view()\n",
    "print(type(arr2))"
   ]
  },
  {
   "cell_type": "code",
   "execution_count": 16,
   "id": "24e7ffda-4b8e-45d6-85b7-bbfd027020cd",
   "metadata": {},
   "outputs": [
    {
     "name": "stdout",
     "output_type": "stream",
     "text": [
      "[3 3 4 3 4 3]\n"
     ]
    }
   ],
   "source": [
    "#random number using random module\n",
    "import random\n",
    "print(np.random.randint(2,5,6))#np.random.randint(start,end,count)"
   ]
  },
  {
   "cell_type": "code",
   "execution_count": 27,
   "id": "bdbdda40-892e-43ff-9384-0652922beffd",
   "metadata": {},
   "outputs": [
    {
     "name": "stdout",
     "output_type": "stream",
     "text": [
      "<class 'numpy.ndarray'>\n",
      "(3, 5)\n",
      "15\n",
      "2\n",
      "int32\n",
      "[[ 1. 23.  4.  5.  6.]\n",
      " [ 4.  5.  6.  3.  3.]\n",
      " [53.  6.  7.  8.  9.]]\n"
     ]
    }
   ],
   "source": [
    "arr3=np.array([[1,23,4,5,6],[4,5,6,3,3],[53,6,7,8,9]])\n",
    "arr3\n",
    "print(type(arr3))\n",
    "print(np.shape(arr3))\n",
    "print(np.size(arr3))\n",
    "print(np.ndim(arr3))\n",
    "print(arr3.dtype)\n",
    "print(arr3.astype(float))"
   ]
  },
  {
   "cell_type": "code",
   "execution_count": 32,
   "id": "c86151db-a298-496a-bbc0-b8e97932e430",
   "metadata": {},
   "outputs": [
    {
     "name": "stdout",
     "output_type": "stream",
     "text": [
      "7\n",
      "2\n",
      "12\n",
      "2.0\n",
      "2\n",
      "27\n",
      "9.539392014169456\n"
     ]
    }
   ],
   "source": [
    "print(np.add(3,4))\n",
    "print(np.subtract(5,3))\n",
    "print(np.multiply(3,4))\n",
    "print(np.divide(6,3))\n",
    "print(np.mod(6,4))\n",
    "print(np.power(3,3))\n",
    "print(np.sqrt(91))"
   ]
  },
  {
   "cell_type": "code",
   "execution_count": 40,
   "id": "510ac7f5-c8a7-423b-abc7-6ff39fb554c7",
   "metadata": {},
   "outputs": [
    {
     "name": "stdout",
     "output_type": "stream",
     "text": [
      "[1 2 3 4 5 2 3 4 5 6]\n"
     ]
    }
   ],
   "source": [
    "arr2=np.array([2,3,4,5,6])\n",
    "print(np.concatenate([arr1,arr2],axis=0))#axis=0 represents concatenate according to the rows and it is default"
   ]
  },
  {
   "cell_type": "code",
   "execution_count": 42,
   "id": "90c2ee5e-3e71-4dea-89ac-48d316254853",
   "metadata": {},
   "outputs": [
    {
     "name": "stdout",
     "output_type": "stream",
     "text": [
      "[[1 4 5 3 2 5 3 4 6 7]\n",
      " [5 5 6 2 3 7 9 0 8 7]]\n"
     ]
    }
   ],
   "source": [
    "arr3=np.array([[1,4,5,3,2],[5,5,6,2,3]])\n",
    "arr4=np.array([[5,3,4,6,7],[7,9,0,8,7]])\n",
    "print(np.concatenate([arr3,arr4],axis=1))#axis=1 represents concatenate according to the columns"
   ]
  },
  {
   "cell_type": "code",
   "execution_count": 51,
   "id": "e05d486f-73ab-45b2-9c3f-8725ef605eb7",
   "metadata": {},
   "outputs": [
    {
     "name": "stdout",
     "output_type": "stream",
     "text": [
      "[1 2 3 4 5]\n",
      "[1 2 3 4 5 4]\n",
      "[1 2 3 4 5 6]\n",
      "[1 2 4 5]\n"
     ]
    }
   ],
   "source": [
    "print(arr1)\n",
    "print(np.append(arr1,4))\n",
    "print(np.insert(arr1,5,6))#np.insert(array_name,index,value)\n",
    "print(np.delete(arr1,2))"
   ]
  },
  {
   "cell_type": "code",
   "execution_count": 58,
   "id": "25c09db4-eecd-40cb-9e87-6501cf8b9ef3",
   "metadata": {},
   "outputs": [
    {
     "name": "stdout",
     "output_type": "stream",
     "text": [
      "[2 3 4 4 5 6]\n",
      "24\n",
      "2\n",
      "6\n",
      "(array([3, 5], dtype=int64),)\n",
      "(array([1], dtype=int64),)\n",
      "4.0\n"
     ]
    }
   ],
   "source": [
    "arr4=np.array([3,2,5,4,6,4])\n",
    "print(np.sort(arr4))\n",
    "print(np.sum(arr4))\n",
    "print(np.min(arr4))\n",
    "print(np.max(arr4))\n",
    "print(np.where(arr4==4))\n",
    "print(np.where(arr4==2))\n",
    "print(np.mean(arr4))\n"
   ]
  },
  {
   "cell_type": "code",
   "execution_count": null,
   "id": "ba5242b3-d791-4d77-bbdd-49abb5cd26e7",
   "metadata": {},
   "outputs": [],
   "source": []
  }
 ],
 "metadata": {
  "kernelspec": {
   "display_name": "Python 3 (ipykernel)",
   "language": "python",
   "name": "python3"
  },
  "language_info": {
   "codemirror_mode": {
    "name": "ipython",
    "version": 3
   },
   "file_extension": ".py",
   "mimetype": "text/x-python",
   "name": "python",
   "nbconvert_exporter": "python",
   "pygments_lexer": "ipython3",
   "version": "3.11.7"
  }
 },
 "nbformat": 4,
 "nbformat_minor": 5
}
