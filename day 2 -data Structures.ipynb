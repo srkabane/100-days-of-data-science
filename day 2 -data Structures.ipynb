{
 "cells": [
  {
   "cell_type": "code",
   "execution_count": 1,
   "id": "72099b6f-0d02-484e-ad4e-8ac0743ca1ba",
   "metadata": {},
   "outputs": [
    {
     "name": "stdout",
     "output_type": "stream",
     "text": [
      "[1, 2, 3, 'hello', 'shara', 8.0, 'rajesh']\n",
      "[1, 2, 'inserted', 3, 'hello', 'shara', 8.0, 'rajesh']\n",
      "[1, 2, 'inserted', 3, 'hello', 'shara', 8.0]\n",
      "[1, 2, 3, 'hello', 'shara', 8.0]\n",
      "[8.0, 'shara', 'hello', 3, 2, 1]\n",
      "[1, 2, 2.3, 3, 4, 5, 5, 6]\n",
      "[1, 2, 2.3, 3, 4, 5, 5, 6, 3, 5]\n"
     ]
    }
   ],
   "source": [
    "list=[1,2,3,\"hello\",\"shara\",8.0]\n",
    "list.append(\"rajesh\")\n",
    "print(list)\n",
    "list.insert(2,\"inserted\")\n",
    "print(list)\n",
    "list.pop()\n",
    "print(list)\n",
    "list.remove(\"inserted\")\n",
    "print(list)\n",
    "list.reverse()\n",
    "print(list)\n",
    "num_list=[2,5,3,1,2.3,4,5,6]\n",
    "num_list.sort()\n",
    "print(num_list)\n",
    "num_list.extend([3,5])\n",
    "print(num_list)"
   ]
  },
  {
   "cell_type": "markdown",
   "id": "9536a179-11db-4cff-97d1-37a5aef3f0fc",
   "metadata": {},
   "source": [
    "                                            *set*"
   ]
  },
  {
   "cell_type": "code",
   "execution_count": 2,
   "id": "ff204e00-88b2-44d6-8e7e-68156d09b171",
   "metadata": {},
   "outputs": [
    {
     "name": "stdout",
     "output_type": "stream",
     "text": [
      "{2, 3, 4, 5}\n",
      "{2, 3, 4, 5}\n",
      "{2, 3, 4, 5, 9}\n",
      "{2, 3, 4, 5, 9, 'hello'}\n",
      "<class 'set'>\n"
     ]
    }
   ],
   "source": [
    "set_data={2,4,5,3,4,3,2,2,4}\n",
    "print(set_data)\n",
    "set_data.add(3)\n",
    "print(set_data)\n",
    "set_data.add(9)\n",
    "print(set_data)\n",
    "set_data.add(\"hello\")\n",
    "print(set_data)\n",
    "print(type(set_data))"
   ]
  },
  {
   "cell_type": "markdown",
   "id": "83591bd8-8e43-493c-94ca-7ba5015892d6",
   "metadata": {},
   "source": [
    "                        *strings*"
   ]
  },
  {
   "cell_type": "code",
   "execution_count": 3,
   "id": "0721177e-553f-4def-9929-97f11ba8861b",
   "metadata": {},
   "outputs": [
    {
     "name": "stdout",
     "output_type": "stream",
     "text": [
      "this is a example of the string\n",
      "THIS IS A EXAMPLE OF THE STRING\n",
      "this is a example of the string\n",
      "['this', 'is', 'a', 'example', 'of', 'the', 'string']\n"
     ]
    }
   ],
   "source": [
    "str=\"this is a example of the string\"\n",
    "print(str)\n",
    "print(str.upper())\n",
    "print(str.lower())\n",
    "print(str.split())\n"
   ]
  },
  {
   "cell_type": "markdown",
   "id": "74d791bd-b96c-4417-8de6-91bd26216ef1",
   "metadata": {},
   "source": [
    "                                                *creating basic functions*"
   ]
  },
  {
   "cell_type": "code",
   "execution_count": 4,
   "id": "d704fe41-b12e-4614-becf-d0b1cf787616",
   "metadata": {},
   "outputs": [
    {
     "name": "stdout",
     "output_type": "stream",
     "text": [
      "this is hello\n",
      "\n",
      "this is hello\n",
      "\n"
     ]
    }
   ],
   "source": [
    "def hello():\n",
    "    print(\"this is hello\\n\")\n",
    "hello()\n",
    "hello()"
   ]
  },
  {
   "cell_type": "code",
   "execution_count": 5,
   "id": "e37461de-b12b-4343-b72c-67d85be2c2d3",
   "metadata": {},
   "outputs": [
    {
     "name": "stdout",
     "output_type": "stream",
     "text": [
      "this is hello\n",
      "\n",
      "this is hello\n",
      "\n",
      "this is hello\n",
      "\n",
      "this is hello\n",
      "\n",
      "this is hello\n",
      "\n"
     ]
    }
   ],
   "source": [
    "#taking n number of times as a parameter \n",
    "def n_times_hello(n):\n",
    "    i=0\n",
    "    while(i<n):\n",
    "        print(\"this is hello\\n\")\n",
    "        i+=1\n",
    "n_times_hello(5)"
   ]
  },
  {
   "cell_type": "code",
   "execution_count": 8,
   "id": "dabe64fc-6a54-436d-92bb-560f2e8a978d",
   "metadata": {},
   "outputs": [
    {
     "name": "stdout",
     "output_type": "stream",
     "text": [
      "name:shara\n",
      "age:19\n"
     ]
    }
   ],
   "source": [
    "#adding default parameter\n",
    "\n",
    "def info(name=\"shara\",age=19):\n",
    "    print(f\"name:{name}\\nage:{age}\")\n",
    "info()"
   ]
  },
  {
   "cell_type": "code",
   "execution_count": 9,
   "id": "85c6ecc5-daf5-4f56-92ad-586377f2d3ae",
   "metadata": {},
   "outputs": [
    {
     "name": "stdout",
     "output_type": "stream",
     "text": [
      "14\n"
     ]
    }
   ],
   "source": [
    "#adding multiple values in the input\n",
    "def add(*numbers):\n",
    "    sum=0\n",
    "    for num in numbers:\n",
    "        sum+=num\n",
    "    print(sum)\n",
    "add(2,3,4,5)"
   ]
  },
  {
   "cell_type": "markdown",
   "id": "730b23e6-18c2-4563-bfb5-887c9e07df4e",
   "metadata": {},
   "source": [
    "                                                        *factorial *"
   ]
  },
  {
   "cell_type": "code",
   "execution_count": 10,
   "id": "f0effef2-e7a9-42d1-aec4-a7253ada98a6",
   "metadata": {},
   "outputs": [
    {
     "name": "stdout",
     "output_type": "stream",
     "text": [
      "24\n"
     ]
    }
   ],
   "source": [
    "def fact(numb):\n",
    "    if (numb==1 or numb==0):\n",
    "        return 1\n",
    "    else:\n",
    "        return numb*fact(numb-1)\n",
    "res=fact(4)\n",
    "print(res)"
   ]
  },
  {
   "cell_type": "code",
   "execution_count": null,
   "id": "2e9d7e72-8f5f-426e-bb36-aa662fa99fc4",
   "metadata": {},
   "outputs": [],
   "source": []
  }
 ],
 "metadata": {
  "kernelspec": {
   "display_name": "Python 3 (ipykernel)",
   "language": "python",
   "name": "python3"
  },
  "language_info": {
   "codemirror_mode": {
    "name": "ipython",
    "version": 3
   },
   "file_extension": ".py",
   "mimetype": "text/x-python",
   "name": "python",
   "nbconvert_exporter": "python",
   "pygments_lexer": "ipython3",
   "version": "3.11.7"
  }
 },
 "nbformat": 4,
 "nbformat_minor": 5
}
