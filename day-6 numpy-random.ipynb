{
 "cells": [
  {
   "cell_type": "code",
   "execution_count": 18,
   "id": "a2dec66b-6683-41f2-b9c8-ee1e62be98e2",
   "metadata": {},
   "outputs": [
    {
     "name": "stdout",
     "output_type": "stream",
     "text": [
      "1\n"
     ]
    }
   ],
   "source": [
    "import numpy as np\n",
    "from numpy import random\n",
    "print(np.random.randint(1,6))"
   ]
  },
  {
   "cell_type": "code",
   "execution_count": 19,
   "id": "271fd236-e5c0-417c-8462-76fb53870810",
   "metadata": {},
   "outputs": [
    {
     "name": "stdout",
     "output_type": "stream",
     "text": [
      "[0.83136662 0.69745365 0.51207044 0.965213   0.57877983]\n",
      "0.3205891674025704\n"
     ]
    }
   ],
   "source": [
    "print(np.random.rand(5))\n",
    "print(np.random.rand())"
   ]
  },
  {
   "cell_type": "code",
   "execution_count": 22,
   "id": "20b4c9c7-eb1e-4972-a713-c6b810e8ab24",
   "metadata": {},
   "outputs": [
    {
     "name": "stdout",
     "output_type": "stream",
     "text": [
      "7\n"
     ]
    }
   ],
   "source": [
    "print(random.choice([2,3,4,5,7]))"
   ]
  },
  {
   "cell_type": "code",
   "execution_count": 24,
   "id": "afc405d4-8720-46c8-855f-75901e47aa60",
   "metadata": {},
   "outputs": [
    {
     "name": "stdout",
     "output_type": "stream",
     "text": [
      "[[65.   8.  76.   4.   8. ]\n",
      " [ 6.   4.   6.  76.   3.4]\n",
      " [65.  76.   4.   6.  32. ]]\n"
     ]
    }
   ],
   "source": [
    "print(random.choice([4,32,4,65,76,8,3.4,6],size=(3,5)))"
   ]
  },
  {
   "cell_type": "code",
   "execution_count": null,
   "id": "8a58d4d6-8388-4e90-a8e4-ca88b93907e2",
   "metadata": {},
   "outputs": [],
   "source": []
  },
  {
   "cell_type": "code",
   "execution_count": null,
   "id": "84918b13-5807-4b27-9652-6fffbd4101de",
   "metadata": {},
   "outputs": [],
   "source": []
  },
  {
   "cell_type": "code",
   "execution_count": null,
   "id": "7fbcacd5-9036-402f-a59f-c6d28dfd019b",
   "metadata": {},
   "outputs": [],
   "source": []
  }
 ],
 "metadata": {
  "kernelspec": {
   "display_name": "Python 3 (ipykernel)",
   "language": "python",
   "name": "python3"
  },
  "language_info": {
   "codemirror_mode": {
    "name": "ipython",
    "version": 3
   },
   "file_extension": ".py",
   "mimetype": "text/x-python",
   "name": "python",
   "nbconvert_exporter": "python",
   "pygments_lexer": "ipython3",
   "version": "3.11.7"
  }
 },
 "nbformat": 4,
 "nbformat_minor": 5
}
