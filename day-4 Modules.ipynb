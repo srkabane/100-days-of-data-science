{
 "cells": [
  {
   "cell_type": "markdown",
   "id": "7bf8916e-a00f-45d4-8077-2f72b26defcc",
   "metadata": {},
   "source": [
    "Built-in modules"
   ]
  },
  {
   "cell_type": "raw",
   "id": "8abf12eb-13f3-44ad-a4fa-5a4b8baf6104",
   "metadata": {},
   "source": []
  },
  {
   "cell_type": "code",
   "execution_count": 23,
   "id": "94556f6a-c52a-45c0-bd24-446e930729cf",
   "metadata": {},
   "outputs": [
    {
     "name": "stdout",
     "output_type": "stream",
     "text": [
      "Square root using math.sqrt()  2.0\n",
      "Factorial using math.factorial()  120\n",
      "power using math.power()  125.0\n",
      "trignometric functions  1.0\n",
      "6.123233995736766e-17\n",
      "1.633123935319537e+16\n",
      "logarithm: 0.0\n",
      "ceil:rouding up a number  4\n",
      "floor:rounds down the number  3\n"
     ]
    }
   ],
   "source": [
    "import math\n",
    "print(\"Square root using math.sqrt() \",math.sqrt(4))\n",
    "print(\"Factorial using math.factorial() \",math.factorial(5))\n",
    "print(\"power using math.power() \",math.pow(5,3))\n",
    "rad=math.radians(90)\n",
    "print(\"trignometric functions \",math.sin(rad))\n",
    "print(math.cos(rad))\n",
    "print(math.tan(rad))\n",
    "print(\"logarithm:\",math.log(1))\n",
    "print(\"ceil:rouding up a number \",math.ceil(3.3))\n",
    "print(\"floor:rounds down the number \",math.floor(3.6))\n"
   ]
  },
  {
   "cell_type": "code",
   "execution_count": 25,
   "id": "36d1fbf4-b2d1-4f84-99d4-4257bb8d23a9",
   "metadata": {},
   "outputs": [
    {
     "name": "stdout",
     "output_type": "stream",
     "text": [
      "2025-03-30\n",
      "2025-03-30 22:20:57.392177\n"
     ]
    }
   ],
   "source": [
    "import datetime\n",
    "print(datetime.date.today())\n",
    "print(datetime.datetime.now())"
   ]
  },
  {
   "cell_type": "code",
   "execution_count": 27,
   "id": "57a84128-7147-401e-a021-c4f468f702f5",
   "metadata": {},
   "outputs": [
    {
     "name": "stdout",
     "output_type": "stream",
     "text": [
      "    January 2005\n",
      "Mo Tu We Th Fr Sa Su\n",
      "                1  2\n",
      " 3  4  5  6  7  8  9\n",
      "10 11 12 13 14 15 16\n",
      "17 18 19 20 21 22 23\n",
      "24 25 26 27 28 29 30\n",
      "31\n",
      "\n",
      "    January 2024\n",
      "Mo Tu We Th Fr Sa Su\n",
      " 1  2  3  4  5  6  7\n",
      " 8  9 10 11 12 13 14\n",
      "15 16 17 18 19 20 21\n",
      "22 23 24 25 26 27 28\n",
      "29 30 31\n",
      "\n"
     ]
    }
   ],
   "source": [
    "import calendar\n",
    "print (calendar.month(2005,1))\n",
    "print(calendar.month(2024,1))"
   ]
  },
  {
   "cell_type": "code",
   "execution_count": 32,
   "id": "fa7a7489-8bf8-48c4-9b27-971768cd61fd",
   "metadata": {},
   "outputs": [
    {
     "name": "stdout",
     "output_type": "stream",
     "text": [
      "3.11.7 | packaged by Anaconda, Inc. | (main, Dec 15 2023, 18:05:47) [MSC v.1916 64 bit (AMD64)]\n",
      "sys.version_info(major=3, minor=11, micro=7, releaselevel='final', serial=0)\n",
      "win32\n"
     ]
    }
   ],
   "source": [
    "import sys\n",
    "print(sys.version)\n",
    "print(sys.version_info)\n",
    "print(sys.platform)"
   ]
  },
  {
   "cell_type": "code",
   "execution_count": 41,
   "id": "54d0497c-5df7-4fb5-9371-511745d9e23e",
   "metadata": {},
   "outputs": [
    {
     "name": "stdout",
     "output_type": "stream",
     "text": [
      "b'\\x80\\x04\\x95\\t\\x00\\x00\\x00\\x00\\x00\\x00\\x00\\x8c\\x05shara\\x94.'\n",
      "<class 'bytes'>\n",
      "shara\n",
      "<class 'str'>\n"
     ]
    }
   ],
   "source": [
    "import pickle\n",
    "#pickle used to convert data into binary\n",
    "data=\"shara\"\n",
    "bin_data=pickle.dumps(data)\n",
    "print(bin_data)\n",
    "print(type(bin_data))\n",
    "org_data=pickle.loads(bin_data)\n",
    "print(org_data)\n",
    "print(type(org_data))"
   ]
  },
  {
   "cell_type": "code",
   "execution_count": null,
   "id": "a00fa589-b91d-4fc8-9ab9-50dd253aeef9",
   "metadata": {},
   "outputs": [],
   "source": []
  }
 ],
 "metadata": {
  "kernelspec": {
   "display_name": "Python 3 (ipykernel)",
   "language": "python",
   "name": "python3"
  },
  "language_info": {
   "codemirror_mode": {
    "name": "ipython",
    "version": 3
   },
   "file_extension": ".py",
   "mimetype": "text/x-python",
   "name": "python",
   "nbconvert_exporter": "python",
   "pygments_lexer": "ipython3",
   "version": "3.11.7"
  }
 },
 "nbformat": 4,
 "nbformat_minor": 5
}
