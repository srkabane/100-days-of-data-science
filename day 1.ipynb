{
 "cells": [
  {
   "cell_type": "markdown",
   "id": "2c32b202-054e-4695-9aab-a51fc391e604",
   "metadata": {},
   "source": [
    "if else statement\n"
   ]
  },
  {
   "cell_type": "code",
   "execution_count": 12,
   "id": "dfcd3626-e47b-44cd-b0cb-5ea8a470747c",
   "metadata": {},
   "outputs": [
    {
     "name": "stdout",
     "output_type": "stream",
     "text": [
      "checking the voter eligiblity and senior citizen\n"
     ]
    },
    {
     "name": "stdin",
     "output_type": "stream",
     "text": [
      "enter name and year of birth shara 19\n"
     ]
    },
    {
     "name": "stdout",
     "output_type": "stream",
     "text": [
      "Hello shara 19 Eligible to vote \n",
      "-----------------------------------------\n"
     ]
    }
   ],
   "source": [
    "import datetime\n",
    "year=datetime.date.today().year\n",
    "print(\"checking the voter eligiblity and senior citizen\")\n",
    "\n",
    "name=input(\"enter name and year of birth\")\n",
    "info=name.split()\n",
    "birth_year=info[1]\n",
    "age=year-int(birth_year)\n",
    "if (age>17):\n",
    "    print(f\"Hello {name} Eligible to vote \")\n",
    "else:\n",
    "    print(f\"Hello {name} not Eligible to vote \")\n",
    "print(\"-----------------------------------------\")"
   ]
  },
  {
   "cell_type": "markdown",
   "id": "d5886505-680b-4323-8b4f-d0c06093a6b5",
   "metadata": {},
   "source": [
    "                                                            *iterative statement*"
   ]
  },
  {
   "cell_type": "code",
   "execution_count": 13,
   "id": "2387012e-2a05-47c9-a0b1-261513f09d1d",
   "metadata": {},
   "outputs": [
    {
     "name": "stdout",
     "output_type": "stream",
     "text": [
      "0\n",
      "2\n",
      "4\n",
      "6\n",
      "8\n",
      "10\n",
      "12\n",
      "14\n",
      "16\n",
      "18\n"
     ]
    }
   ],
   "source": [
    "for i in range(0,10):\n",
    "    print(i*2)"
   ]
  },
  {
   "cell_type": "code",
   "execution_count": 14,
   "id": "b3d266f1-4590-4b9d-af7e-d9908a55e85f",
   "metadata": {},
   "outputs": [
    {
     "name": "stdout",
     "output_type": "stream",
     "text": [
      "0\n",
      "2\n",
      "4\n",
      "6\n",
      "8\n",
      "10\n",
      "12\n",
      "14\n",
      "16\n",
      "18\n"
     ]
    }
   ],
   "source": [
    "i=0\n",
    "while(i<10):\n",
    "    print(i*2)\n",
    "    i+=1"
   ]
  },
  {
   "cell_type": "code",
   "execution_count": null,
   "id": "c2f13f35-2f9b-465c-81d7-e3c53542e544",
   "metadata": {},
   "outputs": [],
   "source": [
    "i=0\n",
    "while(i<10):\n",
    "    if(i==0):\n",
    "        continue\n",
    "    print(i*2)\n",
    "    i+=1"
   ]
  },
  {
   "cell_type": "code",
   "execution_count": null,
   "id": "26caa7f7-a7a5-4487-84fc-1f16edded279",
   "metadata": {},
   "outputs": [],
   "source": [
    "i=0\n",
    "while(i<10):\n",
    "    if(i==9):\n",
    "        break\n",
    "    print(i*2)\n",
    "    i+=1"
   ]
  },
  {
   "cell_type": "markdown",
   "id": "61fcd610-6bec-4255-95a4-b09012f3836c",
   "metadata": {},
   "source": [
    "                                                            *mathematical operations*"
   ]
  },
  {
   "cell_type": "code",
   "execution_count": null,
   "id": "9fe471fd-5860-46cb-82b4-ec98b20ad0bc",
   "metadata": {},
   "outputs": [],
   "source": [
    "print(\"simple calculator using switch\")\n",
    "num1=int(input(\"Enter the first operand:\"))\n",
    "num2=int(input(\"Enter the second operand:\"))\n",
    "operator=int(input(\"enter your choice\\n 1.addition \\n 2.subtraction \\n 3. multiplication \\n 4.division \\n 5.modulus\"))\n",
    "if(operator==1):\n",
    "    print(num1+num2)\n",
    "elif(operator==2):\n",
    "    print(num1-num2)\n",
    "elif(operator==3):\n",
    "    print(num1*num2)\n",
    "elif(operator==4):\n",
    "    try:\n",
    "        print(num1/num2)\n",
    "    except(ZeroDivisionError):\n",
    "        print(\"invalid Input\")\n",
    "elif(operator==5):\n",
    "    try:\n",
    "        print(num1//num2)\n",
    "    except(ZeroDivisionError):\n",
    "        print(\"invalid Input\")\n",
    "else:\n",
    "    print(\"invalid input given\")\n",
    "\n"
   ]
  },
  {
   "cell_type": "markdown",
   "id": "f4ad286d-6f23-40f4-8e94-5cc816ab4161",
   "metadata": {},
   "source": [
    "                                                        *predicting random number*"
   ]
  },
  {
   "cell_type": "code",
   "execution_count": null,
   "id": "d833965b-32b0-47fc-97f8-8ff01a9668bd",
   "metadata": {},
   "outputs": [],
   "source": [
    "import random\n",
    "print(random.randint(2,100))#print random number betweem 2 and 99\n",
    "list=[\"shara\",\"bala\",\"rahul\",\"litin\",\"rajesh\",\"jasper\"]\n",
    "print(random.choice(list))#prints random item from the list\n"
   ]
  },
  {
   "cell_type": "markdown",
   "id": "c00d2e0e-ee9b-4185-88b2-9eb55820175d",
   "metadata": {},
   "source": [
    "                                                            *list , tuple , dictionary*\n"
   ]
  },
  {
   "cell_type": "code",
   "execution_count": null,
   "id": "d50e42d0-5835-4b6b-bcdb-a40301df509c",
   "metadata": {},
   "outputs": [],
   "source": [
    "names=[\"shara\",\"bala\",\"rahul\",\"litin\",\"rajesh\",\"jasper\"]\n",
    "names.append(\"bhags\")\n",
    "print(names)\n",
    "names.pop()\n",
    "print(names)\n",
    "names.remove(\"jasper\")\n",
    "print(names)\n",
    "print(names[-1])\n",
    "names.append(\"jasper\")\n",
    "print(names)"
   ]
  },
  {
   "cell_type": "code",
   "execution_count": null,
   "id": "b3ce3231-3d2c-41bd-8b46-b8406d4552b5",
   "metadata": {},
   "outputs": [],
   "source": [
    "names=(\"shara\",\"bala\",\"rahul\",\"litin\",\"rajesh\",\"jasper\")\n",
    "\n",
    "print(names)\n",
    "print(names[-1])\n"
   ]
  },
  {
   "cell_type": "code",
   "execution_count": null,
   "id": "9e54d0ef-f9b2-41b6-9712-48f85d8317c6",
   "metadata": {},
   "outputs": [],
   "source": [
    "dic={\"name\":\"shara\",\"age\":19,\"another-name\":\"shara\"}\n",
    "print(dic)\n",
    "print(dic.keys())\n",
    "print(dic.items())\n",
    "print(dic.values())"
   ]
  }
 ],
 "metadata": {
  "kernelspec": {
   "display_name": "Python 3 (ipykernel)",
   "language": "python",
   "name": "python3"
  },
  "language_info": {
   "codemirror_mode": {
    "name": "ipython",
    "version": 3
   },
   "file_extension": ".py",
   "mimetype": "text/x-python",
   "name": "python",
   "nbconvert_exporter": "python",
   "pygments_lexer": "ipython3",
   "version": "3.11.7"
  }
 },
 "nbformat": 4,
 "nbformat_minor": 5
}
