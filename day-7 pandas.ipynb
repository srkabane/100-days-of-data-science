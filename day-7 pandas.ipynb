{
 "cells": [
  {
   "cell_type": "code",
   "execution_count": 1,
   "id": "7ddd6355-dec4-4eb6-9ce8-a95ba1eeb128",
   "metadata": {},
   "outputs": [],
   "source": [
    "#Pandas is a Python library used for working with data sets. It has functions for analyzing, cleaning, exploring, and manipulating data."
   ]
  },
  {
   "cell_type": "code",
   "execution_count": 5,
   "id": "a052af26-5f5e-425e-a53b-70401aaad112",
   "metadata": {},
   "outputs": [
    {
     "name": "stdout",
     "output_type": "stream",
     "text": [
      "0    2\n",
      "1    4\n",
      "2    5\n",
      "3    4\n",
      "4    3\n",
      "dtype: int32\n"
     ]
    }
   ],
   "source": [
    "import pandas as pd\n",
    "import numpy as np\n",
    "arr=np.array([2,4,5,4,3])\n",
    "print(pd.Series(arr))"
   ]
  },
  {
   "cell_type": "code",
   "execution_count": 8,
   "id": "90d2e655-a7b4-420a-86d3-199745188675",
   "metadata": {},
   "outputs": [
    {
     "name": "stdout",
     "output_type": "stream",
     "text": [
      "a    2\n",
      "b    4\n",
      "c    5\n",
      "d    4\n",
      "e    3\n",
      "dtype: int32\n"
     ]
    }
   ],
   "source": [
    "print(pd.Series(arr,index=['a','b','c','d','e']))"
   ]
  },
  {
   "cell_type": "code",
   "execution_count": 11,
   "id": "8e2baf5e-61c0-46f6-b1d9-7eb3caabec9d",
   "metadata": {},
   "outputs": [
    {
     "name": "stdout",
     "output_type": "stream",
     "text": [
      "{'name': ['shara', 'rajesh', 'bala'], 'age': [23, 25, 24]}\n",
      "     name  age\n",
      "0   shara   23\n",
      "1  rajesh   25\n",
      "2    bala   24\n"
     ]
    }
   ],
   "source": [
    "data={\n",
    "    \"name\":[\"shara\",\"rajesh\",\"bala\"],\n",
    "    \"age\":[23,25,24]\n",
    "    \n",
    "}\n",
    "print(data)\n",
    "data=pd.DataFrame(data)\n",
    "print(data)"
   ]
  },
  {
   "cell_type": "code",
   "execution_count": null,
   "id": "b0b26a27-c630-4e1e-8ef4-12c386437bb4",
   "metadata": {},
   "outputs": [],
   "source": []
  }
 ],
 "metadata": {
  "kernelspec": {
   "display_name": "Python 3 (ipykernel)",
   "language": "python",
   "name": "python3"
  },
  "language_info": {
   "codemirror_mode": {
    "name": "ipython",
    "version": 3
   },
   "file_extension": ".py",
   "mimetype": "text/x-python",
   "name": "python",
   "nbconvert_exporter": "python",
   "pygments_lexer": "ipython3",
   "version": "3.11.7"
  }
 },
 "nbformat": 4,
 "nbformat_minor": 5
}
