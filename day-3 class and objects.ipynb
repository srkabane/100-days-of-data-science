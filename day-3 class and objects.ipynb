{
 "cells": [
  {
   "cell_type": "code",
   "execution_count": 2,
   "id": "d947ddc5-5c72-4879-be02-1ff3a5c1a32c",
   "metadata": {},
   "outputs": [
    {
     "name": "stdout",
     "output_type": "stream",
     "text": [
      "name:shara\n",
      "age:19\n"
     ]
    }
   ],
   "source": [
    "class student:\n",
    "    name:\"\"\n",
    "    age:0\n",
    "stud1=student()\n",
    "stud1.age=19\n",
    "stud1.name=\"shara\"\n",
    "print(f\"name:{stud1.name}\\nage:{stud1.age}\")"
   ]
  },
  {
   "cell_type": "code",
   "execution_count": 10,
   "id": "bbc619dc-396f-4bf7-b2d5-106a85d275bc",
   "metadata": {},
   "outputs": [
    {
     "name": "stdout",
     "output_type": "stream",
     "text": [
      "object of shiva is deleted\n",
      "name:shara\n",
      "age:20\n",
      "name:shiva\n",
      "age:22\n",
      "object of shara is deleted\n"
     ]
    }
   ],
   "source": [
    "#using constructors in python\n",
    "class student_class_2:\n",
    "    def __init__(self,name,age):\n",
    "        self.name=name\n",
    "        self.age=age\n",
    "    def __del__(self):\n",
    "        print(f\"object of {self.name} is deleted\")\n",
    "        \n",
    "stud2=student_class_2(\"shara\",20)\n",
    "stud3=student_class_2(\"shiva\",22)\n",
    "print(f\"name:{stud2.name}\\nage:{stud2.age}\")\n",
    "print(f\"name:{stud3.name}\\nage:{stud3.age}\")\n",
    "del(stud2)\n",
    "\n"
   ]
  },
  {
   "cell_type": "code",
   "execution_count": 24,
   "id": "af115068-45d1-4714-9dcb-4cc04a15aab9",
   "metadata": {},
   "outputs": [
    {
     "name": "stdout",
     "output_type": "stream",
     "text": [
      "shara is eligible to register for exam\n",
      "name:shara\n",
      "age:13\n",
      "class:8\n",
      "---------\n",
      "shiva is eligible to register for exam\n",
      "name:shiva\n",
      "age:14\n",
      "class:9\n",
      "---------\n",
      "rakshitha is not eligible to register for exam\n",
      "name:rakshitha\n",
      "age:11\n",
      "class:5\n",
      "---------\n",
      "total students registered for exams : 2\n"
     ]
    }
   ],
   "source": [
    "#checking if the student is eligible to register for exams based on his age . He is eligible if he is over 11 years and he studying class 7 and more than that\n",
    "num_students_writing_exams=0\n",
    "class student_eligiblity:\n",
    "    def __init__(self,name,age,stud_class):\n",
    "        self.name=name\n",
    "        self.age=age\n",
    "        self.stud_class=stud_class\n",
    "    def check_eligiblity(self):\n",
    "        global num_students_writing_exams\n",
    "        if((self.age>10) and (self.stud_class>6)):\n",
    "            print(f\"{self.name} is eligible to register for exam\")\n",
    "            num_students_writing_exams+=1\n",
    "        else:\n",
    "            print(f\"{self.name} is not eligible to register for exam\")\n",
    "    def display_info(self):\n",
    "        print(f\"name:{self.name}\\nage:{self.age}\\nclass:{self.stud_class}\\n---------\")\n",
    "    def total_count():\n",
    "        print(f\"total students registered for exams : {num_students_writing_exams}\")\n",
    "stud1=student_eligiblity(\"shara\",13,8)\n",
    "stud1.check_eligiblity()\n",
    "stud1.display_info()\n",
    "\n",
    "stud2=student_eligiblity(\"shiva\",14,9)\n",
    "stud2.check_eligiblity()\n",
    "stud2.display_info()\n",
    "\n",
    "stud1=student_eligiblity(\"rakshitha\",11,5)\n",
    "stud1.check_eligiblity()\n",
    "stud1.display_info()\n",
    "student_eligiblity.total_count()"
   ]
  },
  {
   "cell_type": "code",
   "execution_count": null,
   "id": "a321c2a6-a098-4237-9a3f-ee62a606df6e",
   "metadata": {},
   "outputs": [],
   "source": []
  }
 ],
 "metadata": {
  "kernelspec": {
   "display_name": "Python 3 (ipykernel)",
   "language": "python",
   "name": "python3"
  },
  "language_info": {
   "codemirror_mode": {
    "name": "ipython",
    "version": 3
   },
   "file_extension": ".py",
   "mimetype": "text/x-python",
   "name": "python",
   "nbconvert_exporter": "python",
   "pygments_lexer": "ipython3",
   "version": "3.11.7"
  }
 },
 "nbformat": 4,
 "nbformat_minor": 5
}
